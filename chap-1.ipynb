{
 "cells": [
  {
   "cell_type": "markdown",
   "metadata": {},
   "source": [
    "# 第1章"
   ]
  },
  {
   "cell_type": "code",
   "execution_count": 1,
   "metadata": {
    "collapsed": true
   },
   "outputs": [],
   "source": [
    "from functools import reduce\n",
    "import re, random"
   ]
  },
  {
   "cell_type": "code",
   "execution_count": 2,
   "metadata": {},
   "outputs": [
    {
     "name": "stdout",
     "output_type": "stream",
     "text": [
      "desserts\n",
      "パトカー\n",
      "パタトクカシーー\n",
      "[3, 1, 4, 1, 6, 9, 2, 7, 5, 3, 5, 8, 9, 7, 10]\n",
      "{'H': 0, 'He': 1, 'Li': 2, 'Be': 3, 'B': 4, 'C': 5, 'N': 6, 'O': 7, 'F': 8, 'Ne': 9, 'Na': 10, 'Mi': 11, 'Al': 12, 'Si': 13, 'P': 14, 'S': 15, 'Cl': 16, 'Ar': 17, 'K': 18, 'Ca': 19}\n"
     ]
    }
   ],
   "source": [
    "# 00. 文字列の逆順\n",
    "print(\"stressed\"[::-1])\n",
    "# 01. 「パタトクカシーー」\n",
    "print(\"パタトクカシーー\"[::2])\n",
    "# 02. 「パトカー」＋「タクシー」＝「パタトクカシーー」\n",
    "print(\"\".join(reduce(lambda x, y: x + y, zip(\"パトカー\", \"タクシー\"))))\n",
    "# 03. 円周率\n",
    "s = \"Now I need a drink, alcoholic of course, after the heavy lectures involving quantum mechanics.\"\n",
    "print([len(w) for w in s.split(\" \")])\n",
    "# 04. 元素記号\n",
    "s = \"Hi He Lied Because Boron Could Not Oxidize Fluorine. New Nations Might Also Sign Peace Security Clause. Arthur King Can.\"\n",
    "print(dict([(w[:1],i) if i in [0,4,5,6,7,8,14,15,18] else (w[:2],i) for i, w in enumerate(s.split(\" \"))]))"
   ]
  },
  {
   "cell_type": "code",
   "execution_count": 3,
   "metadata": {},
   "outputs": [
    {
     "name": "stdout",
     "output_type": "stream",
     "text": [
      "['I', ' ', 'a', 'm', ' ', 'a', 'n', ' ', 'N', 'L', 'P', 'e', 'r']\n",
      "[['I'], ['am'], ['an'], ['NLPer']]\n",
      "['I ', ' a', 'am', 'm ', ' a', 'an', 'n ', ' N', 'NL', 'LP', 'Pe', 'er']\n",
      "[['I', 'am'], ['am', 'an'], ['an', 'NLPer']]\n",
      "['I a', ' am', 'am ', 'm a', ' an', 'an ', 'n N', ' NL', 'NLP', 'LPe', 'Per']\n",
      "[['I', 'am', 'an'], ['am', 'an', 'NLPer']]\n"
     ]
    }
   ],
   "source": [
    "# 05. n-gram\n",
    "s = \"I am an NLPer\"\n",
    "def ngram(s, n):\n",
    "    res = []\n",
    "    for i in range(len(s)-n+1):\n",
    "        if i==len(s)-n+1: break\n",
    "        res.append(s[i:i+n])\n",
    "    return res\n",
    "for i in range(3):\n",
    "    print(ngram(s,i+1))\n",
    "    print(ngram(s.split(),i+1))"
   ]
  },
  {
   "cell_type": "code",
   "execution_count": 4,
   "metadata": {},
   "outputs": [
    {
     "name": "stdout",
     "output_type": "stream",
     "text": [
      "{'di', 'ar', 'ag', 'gr', 'ra', 'is', 'ap', 'ad', 'pa', 'se', 'ph'}\n",
      "{'pa', 'ra', 'ar', 'ap'}\n",
      "{'di', 'se', 'ad', 'is'}\n",
      "{'gr', 'ag', 'ph'}\n",
      "True False\n"
     ]
    }
   ],
   "source": [
    "# 06. 集合\n",
    "X = set(ngram(\"paraparaparadise\", 2))\n",
    "Y = set(ngram(\"paragraph\", 2))\n",
    "print(X | Y)\n",
    "print(X & Y)\n",
    "print(X - Y)\n",
    "print(Y - X)\n",
    "print(\"se\" in X, \"se\" in Y)"
   ]
  },
  {
   "cell_type": "code",
   "execution_count": 5,
   "metadata": {},
   "outputs": [
    {
     "name": "stdout",
     "output_type": "stream",
     "text": [
      "12時の気温は22.4\n"
     ]
    }
   ],
   "source": [
    "# 07. テンプレートによる文生成\n",
    "def template07(x,y,z): return \"{}時の{}は{}\".format(x,y,z)\n",
    "print(template07(12,\"気温\",22.4))"
   ]
  },
  {
   "cell_type": "code",
   "execution_count": 6,
   "metadata": {},
   "outputs": [
    {
     "name": "stdout",
     "output_type": "stream",
     "text": [
      "I zn zm NLPvi\n",
      "I am an NLPer\n"
     ]
    }
   ],
   "source": [
    "# 08. 暗号文\n",
    "def cipher(s):\n",
    "    return re.sub(\"[a-z]\", lambda m: chr(219 - ord(m.group(0))), s)   \n",
    "print(cipher(s))\n",
    "print(cipher(cipher(s)))"
   ]
  },
  {
   "cell_type": "code",
   "execution_count": 7,
   "metadata": {},
   "outputs": [
    {
     "name": "stdout",
     "output_type": "stream",
     "text": [
      "Iaaaaaabaaaaaa clond'ut bveelie that I cluod acluatly usantdrned what I was radenig : the ponehmaenl pewor of the hamun mind aabaaaa.\n"
     ]
    }
   ],
   "source": [
    "# 09. Typoglycemia\n",
    "s = \"Iaaaaaabaaaaaa couldn't believe that I could actually understand what I was reading : the phenomenal power of the human mind aabaaaa.\"\n",
    "print(\" \".join([w[0] + \"\".join(random.sample(w[1:-1], len(w)-2)) + w[-1] if (len(w)>4 and i!=0 and i!=len(s.split())-1) else w for i, w in enumerate(s.split())]))"
   ]
  }
 ],
 "metadata": {
  "kernelspec": {
   "display_name": "Python 3",
   "language": "python",
   "name": "python3"
  },
  "language_info": {
   "codemirror_mode": {
    "name": "ipython",
    "version": 3
   },
   "file_extension": ".py",
   "mimetype": "text/x-python",
   "name": "python",
   "nbconvert_exporter": "python",
   "pygments_lexer": "ipython3",
   "version": "3.6.2"
  }
 },
 "nbformat": 4,
 "nbformat_minor": 2
}
